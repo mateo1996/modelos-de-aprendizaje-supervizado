{
 "cells": [
  {
   "cell_type": "markdown",
   "id": "38b92084-bd13-4717-8165-f8cb298cc048",
   "metadata": {},
   "source": [
    "<h1>Regresion logistica</h1>\n",
    "<h4>Heart Disease Cleveland UCI</h2>\n",
    "<h3>Cristian Mateo Samboni Muñoz</h3>",
    "<h3>Linda Katerin Rodriguez Moya</h3>",
    "    <h4>El proposito de este ejercicio es evaluar si el modelo de regresion lineal es optimo para detectar la presencia de enfermedad cardiaca</h2>\n",
    "    <h4>Contiene información de pacientes como edad, sexo, presión sanguínea, colesterol, etc. la variable objetivo es la presencia de enfermedad cardíaca</h4>\n",
    "\n",
    "    "
   ]
  },
  {
   "cell_type": "markdown",
   "id": "bb7bc855-5796-41ad-952b-be945a13d3b0",
   "metadata": {},
   "source": [
    "<h6>Empezamos importando las librerias y haciendo referencias a ellas por medio de variables</h6>"
   ]
  },
  {
   "cell_type": "code",
   "execution_count": 3,
   "id": "ecc6689d-8751-4c62-8f15-b75649c2dc5b",
   "metadata": {},
   "outputs": [],
   "source": [
    "#importa librerias \n",
    "import pandas as pd # Maneja y analiza los datos\n",
    "import numpy as np # Calcula y analiza los datos numericamente \n",
    "import seaborn as sns # Graficos estadisticos \n",
    "import matplotlib.pyplot as plt # Grafica en 2D\n",
    "\n",
    "#hace referencias a las libreras al codigo \n",
    "from sklearn import metrics \n",
    "from sklearn.model_selection import train_test_split\n",
    "from sklearn.linear_model import LogisticRegression\n",
    "from sklearn.metrics import classification_report, confusion_matrix, RocCurveDisplay\n"
   ]
  },
  {
   "cell_type": "markdown",
   "id": "7f1f008e-5a91-425a-9dc8-12fb54467784",
   "metadata": {},
   "source": [
    "<h6>Leemos los datos almacenados en el excel y los cargamos en el objeto Datos</h6>"
   ]
  },
  {
   "cell_type": "code",
   "execution_count": 5,
   "id": "afa48756-e2f9-45ee-b8f3-1c310c50e811",
   "metadata": {},
   "outputs": [],
   "source": [
    "Datos = pd.read_csv('D:/heart_cleveland_upload.csv')"
   ]
  },
  {
   "cell_type": "markdown",
   "id": "c3bdd1db-cd33-4d9d-9344-260bccebff2e",
   "metadata": {},
   "source": [
    "<h6>leemos los datos para el analisis </h6>"
   ]
  },
  {
   "cell_type": "code",
   "execution_count": 9,
   "id": "a8b69bca-d75d-470a-a6a7-beb4fbcad447",
   "metadata": {},
   "outputs": [
    {
     "data": {
      "text/html": [
       "<div>\n",
       "<style scoped>\n",
       "    .dataframe tbody tr th:only-of-type {\n",
       "        vertical-align: middle;\n",
       "    }\n",
       "\n",
       "    .dataframe tbody tr th {\n",
       "        vertical-align: top;\n",
       "    }\n",
       "\n",
       "    .dataframe thead th {\n",
       "        text-align: right;\n",
       "    }\n",
       "</style>\n",
       "<table border=\"1\" class=\"dataframe\">\n",
       "  <thead>\n",
       "    <tr style=\"text-align: right;\">\n",
       "      <th></th>\n",
       "      <th>age</th>\n",
       "      <th>sex</th>\n",
       "      <th>cp</th>\n",
       "      <th>trestbps</th>\n",
       "      <th>chol</th>\n",
       "      <th>fbs</th>\n",
       "      <th>restecg</th>\n",
       "      <th>thalach</th>\n",
       "      <th>exang</th>\n",
       "      <th>oldpeak</th>\n",
       "      <th>slope</th>\n",
       "      <th>ca</th>\n",
       "      <th>thal</th>\n",
       "      <th>condition</th>\n",
       "    </tr>\n",
       "  </thead>\n",
       "  <tbody>\n",
       "    <tr>\n",
       "      <th>0</th>\n",
       "      <td>69</td>\n",
       "      <td>1</td>\n",
       "      <td>0</td>\n",
       "      <td>160</td>\n",
       "      <td>234</td>\n",
       "      <td>1</td>\n",
       "      <td>2</td>\n",
       "      <td>131</td>\n",
       "      <td>0</td>\n",
       "      <td>0.1</td>\n",
       "      <td>1</td>\n",
       "      <td>1</td>\n",
       "      <td>0</td>\n",
       "      <td>0</td>\n",
       "    </tr>\n",
       "    <tr>\n",
       "      <th>1</th>\n",
       "      <td>69</td>\n",
       "      <td>0</td>\n",
       "      <td>0</td>\n",
       "      <td>140</td>\n",
       "      <td>239</td>\n",
       "      <td>0</td>\n",
       "      <td>0</td>\n",
       "      <td>151</td>\n",
       "      <td>0</td>\n",
       "      <td>1.8</td>\n",
       "      <td>0</td>\n",
       "      <td>2</td>\n",
       "      <td>0</td>\n",
       "      <td>0</td>\n",
       "    </tr>\n",
       "    <tr>\n",
       "      <th>2</th>\n",
       "      <td>66</td>\n",
       "      <td>0</td>\n",
       "      <td>0</td>\n",
       "      <td>150</td>\n",
       "      <td>226</td>\n",
       "      <td>0</td>\n",
       "      <td>0</td>\n",
       "      <td>114</td>\n",
       "      <td>0</td>\n",
       "      <td>2.6</td>\n",
       "      <td>2</td>\n",
       "      <td>0</td>\n",
       "      <td>0</td>\n",
       "      <td>0</td>\n",
       "    </tr>\n",
       "    <tr>\n",
       "      <th>3</th>\n",
       "      <td>65</td>\n",
       "      <td>1</td>\n",
       "      <td>0</td>\n",
       "      <td>138</td>\n",
       "      <td>282</td>\n",
       "      <td>1</td>\n",
       "      <td>2</td>\n",
       "      <td>174</td>\n",
       "      <td>0</td>\n",
       "      <td>1.4</td>\n",
       "      <td>1</td>\n",
       "      <td>1</td>\n",
       "      <td>0</td>\n",
       "      <td>1</td>\n",
       "    </tr>\n",
       "    <tr>\n",
       "      <th>4</th>\n",
       "      <td>64</td>\n",
       "      <td>1</td>\n",
       "      <td>0</td>\n",
       "      <td>110</td>\n",
       "      <td>211</td>\n",
       "      <td>0</td>\n",
       "      <td>2</td>\n",
       "      <td>144</td>\n",
       "      <td>1</td>\n",
       "      <td>1.8</td>\n",
       "      <td>1</td>\n",
       "      <td>0</td>\n",
       "      <td>0</td>\n",
       "      <td>0</td>\n",
       "    </tr>\n",
       "    <tr>\n",
       "      <th>...</th>\n",
       "      <td>...</td>\n",
       "      <td>...</td>\n",
       "      <td>...</td>\n",
       "      <td>...</td>\n",
       "      <td>...</td>\n",
       "      <td>...</td>\n",
       "      <td>...</td>\n",
       "      <td>...</td>\n",
       "      <td>...</td>\n",
       "      <td>...</td>\n",
       "      <td>...</td>\n",
       "      <td>...</td>\n",
       "      <td>...</td>\n",
       "      <td>...</td>\n",
       "    </tr>\n",
       "    <tr>\n",
       "      <th>95</th>\n",
       "      <td>60</td>\n",
       "      <td>0</td>\n",
       "      <td>2</td>\n",
       "      <td>120</td>\n",
       "      <td>178</td>\n",
       "      <td>1</td>\n",
       "      <td>0</td>\n",
       "      <td>96</td>\n",
       "      <td>0</td>\n",
       "      <td>0.0</td>\n",
       "      <td>0</td>\n",
       "      <td>0</td>\n",
       "      <td>0</td>\n",
       "      <td>0</td>\n",
       "    </tr>\n",
       "    <tr>\n",
       "      <th>96</th>\n",
       "      <td>59</td>\n",
       "      <td>1</td>\n",
       "      <td>2</td>\n",
       "      <td>126</td>\n",
       "      <td>218</td>\n",
       "      <td>1</td>\n",
       "      <td>0</td>\n",
       "      <td>134</td>\n",
       "      <td>0</td>\n",
       "      <td>2.2</td>\n",
       "      <td>1</td>\n",
       "      <td>1</td>\n",
       "      <td>1</td>\n",
       "      <td>1</td>\n",
       "    </tr>\n",
       "    <tr>\n",
       "      <th>97</th>\n",
       "      <td>59</td>\n",
       "      <td>1</td>\n",
       "      <td>2</td>\n",
       "      <td>150</td>\n",
       "      <td>212</td>\n",
       "      <td>1</td>\n",
       "      <td>0</td>\n",
       "      <td>157</td>\n",
       "      <td>0</td>\n",
       "      <td>1.6</td>\n",
       "      <td>0</td>\n",
       "      <td>0</td>\n",
       "      <td>0</td>\n",
       "      <td>0</td>\n",
       "    </tr>\n",
       "    <tr>\n",
       "      <th>98</th>\n",
       "      <td>58</td>\n",
       "      <td>1</td>\n",
       "      <td>2</td>\n",
       "      <td>112</td>\n",
       "      <td>230</td>\n",
       "      <td>0</td>\n",
       "      <td>2</td>\n",
       "      <td>165</td>\n",
       "      <td>0</td>\n",
       "      <td>2.5</td>\n",
       "      <td>1</td>\n",
       "      <td>1</td>\n",
       "      <td>2</td>\n",
       "      <td>1</td>\n",
       "    </tr>\n",
       "    <tr>\n",
       "      <th>99</th>\n",
       "      <td>58</td>\n",
       "      <td>1</td>\n",
       "      <td>2</td>\n",
       "      <td>105</td>\n",
       "      <td>240</td>\n",
       "      <td>0</td>\n",
       "      <td>2</td>\n",
       "      <td>154</td>\n",
       "      <td>1</td>\n",
       "      <td>0.6</td>\n",
       "      <td>1</td>\n",
       "      <td>0</td>\n",
       "      <td>2</td>\n",
       "      <td>0</td>\n",
       "    </tr>\n",
       "  </tbody>\n",
       "</table>\n",
       "<p>100 rows × 14 columns</p>\n",
       "</div>"
      ],
      "text/plain": [
       "    age  sex  cp  trestbps  chol  fbs  restecg  thalach  exang  oldpeak  \\\n",
       "0    69    1   0       160   234    1        2      131      0      0.1   \n",
       "1    69    0   0       140   239    0        0      151      0      1.8   \n",
       "2    66    0   0       150   226    0        0      114      0      2.6   \n",
       "3    65    1   0       138   282    1        2      174      0      1.4   \n",
       "4    64    1   0       110   211    0        2      144      1      1.8   \n",
       "..  ...  ...  ..       ...   ...  ...      ...      ...    ...      ...   \n",
       "95   60    0   2       120   178    1        0       96      0      0.0   \n",
       "96   59    1   2       126   218    1        0      134      0      2.2   \n",
       "97   59    1   2       150   212    1        0      157      0      1.6   \n",
       "98   58    1   2       112   230    0        2      165      0      2.5   \n",
       "99   58    1   2       105   240    0        2      154      1      0.6   \n",
       "\n",
       "    slope  ca  thal  condition  \n",
       "0       1   1     0          0  \n",
       "1       0   2     0          0  \n",
       "2       2   0     0          0  \n",
       "3       1   1     0          1  \n",
       "4       1   0     0          0  \n",
       "..    ...  ..   ...        ...  \n",
       "95      0   0     0          0  \n",
       "96      1   1     1          1  \n",
       "97      0   0     0          0  \n",
       "98      1   1     2          1  \n",
       "99      1   0     2          0  \n",
       "\n",
       "[100 rows x 14 columns]"
      ]
     },
     "execution_count": 9,
     "metadata": {},
     "output_type": "execute_result"
    }
   ],
   "source": [
    "Datos.head(100)"
   ]
  },
  {
   "cell_type": "code",
   "execution_count": 11,
   "id": "3816fd5f-8a10-4cc1-bee4-dfb573834c79",
   "metadata": {},
   "outputs": [
    {
     "data": {
      "text/html": [
       "<div>\n",
       "<style scoped>\n",
       "    .dataframe tbody tr th:only-of-type {\n",
       "        vertical-align: middle;\n",
       "    }\n",
       "\n",
       "    .dataframe tbody tr th {\n",
       "        vertical-align: top;\n",
       "    }\n",
       "\n",
       "    .dataframe thead th {\n",
       "        text-align: right;\n",
       "    }\n",
       "</style>\n",
       "<table border=\"1\" class=\"dataframe\">\n",
       "  <thead>\n",
       "    <tr style=\"text-align: right;\">\n",
       "      <th></th>\n",
       "      <th>age</th>\n",
       "      <th>sex</th>\n",
       "      <th>cp</th>\n",
       "      <th>trestbps</th>\n",
       "      <th>chol</th>\n",
       "      <th>fbs</th>\n",
       "      <th>restecg</th>\n",
       "      <th>thalach</th>\n",
       "      <th>exang</th>\n",
       "      <th>oldpeak</th>\n",
       "      <th>slope</th>\n",
       "      <th>ca</th>\n",
       "      <th>thal</th>\n",
       "      <th>condition</th>\n",
       "    </tr>\n",
       "  </thead>\n",
       "  <tbody>\n",
       "    <tr>\n",
       "      <th>count</th>\n",
       "      <td>297.000000</td>\n",
       "      <td>297.000000</td>\n",
       "      <td>297.000000</td>\n",
       "      <td>297.000000</td>\n",
       "      <td>297.000000</td>\n",
       "      <td>297.000000</td>\n",
       "      <td>297.000000</td>\n",
       "      <td>297.000000</td>\n",
       "      <td>297.000000</td>\n",
       "      <td>297.000000</td>\n",
       "      <td>297.000000</td>\n",
       "      <td>297.000000</td>\n",
       "      <td>297.000000</td>\n",
       "      <td>297.000000</td>\n",
       "    </tr>\n",
       "    <tr>\n",
       "      <th>mean</th>\n",
       "      <td>54.542088</td>\n",
       "      <td>0.676768</td>\n",
       "      <td>2.158249</td>\n",
       "      <td>131.693603</td>\n",
       "      <td>247.350168</td>\n",
       "      <td>0.144781</td>\n",
       "      <td>0.996633</td>\n",
       "      <td>149.599327</td>\n",
       "      <td>0.326599</td>\n",
       "      <td>1.055556</td>\n",
       "      <td>0.602694</td>\n",
       "      <td>0.676768</td>\n",
       "      <td>0.835017</td>\n",
       "      <td>0.461279</td>\n",
       "    </tr>\n",
       "    <tr>\n",
       "      <th>std</th>\n",
       "      <td>9.049736</td>\n",
       "      <td>0.468500</td>\n",
       "      <td>0.964859</td>\n",
       "      <td>17.762806</td>\n",
       "      <td>51.997583</td>\n",
       "      <td>0.352474</td>\n",
       "      <td>0.994914</td>\n",
       "      <td>22.941562</td>\n",
       "      <td>0.469761</td>\n",
       "      <td>1.166123</td>\n",
       "      <td>0.618187</td>\n",
       "      <td>0.938965</td>\n",
       "      <td>0.956690</td>\n",
       "      <td>0.499340</td>\n",
       "    </tr>\n",
       "    <tr>\n",
       "      <th>min</th>\n",
       "      <td>29.000000</td>\n",
       "      <td>0.000000</td>\n",
       "      <td>0.000000</td>\n",
       "      <td>94.000000</td>\n",
       "      <td>126.000000</td>\n",
       "      <td>0.000000</td>\n",
       "      <td>0.000000</td>\n",
       "      <td>71.000000</td>\n",
       "      <td>0.000000</td>\n",
       "      <td>0.000000</td>\n",
       "      <td>0.000000</td>\n",
       "      <td>0.000000</td>\n",
       "      <td>0.000000</td>\n",
       "      <td>0.000000</td>\n",
       "    </tr>\n",
       "    <tr>\n",
       "      <th>25%</th>\n",
       "      <td>48.000000</td>\n",
       "      <td>0.000000</td>\n",
       "      <td>2.000000</td>\n",
       "      <td>120.000000</td>\n",
       "      <td>211.000000</td>\n",
       "      <td>0.000000</td>\n",
       "      <td>0.000000</td>\n",
       "      <td>133.000000</td>\n",
       "      <td>0.000000</td>\n",
       "      <td>0.000000</td>\n",
       "      <td>0.000000</td>\n",
       "      <td>0.000000</td>\n",
       "      <td>0.000000</td>\n",
       "      <td>0.000000</td>\n",
       "    </tr>\n",
       "    <tr>\n",
       "      <th>50%</th>\n",
       "      <td>56.000000</td>\n",
       "      <td>1.000000</td>\n",
       "      <td>2.000000</td>\n",
       "      <td>130.000000</td>\n",
       "      <td>243.000000</td>\n",
       "      <td>0.000000</td>\n",
       "      <td>1.000000</td>\n",
       "      <td>153.000000</td>\n",
       "      <td>0.000000</td>\n",
       "      <td>0.800000</td>\n",
       "      <td>1.000000</td>\n",
       "      <td>0.000000</td>\n",
       "      <td>0.000000</td>\n",
       "      <td>0.000000</td>\n",
       "    </tr>\n",
       "    <tr>\n",
       "      <th>75%</th>\n",
       "      <td>61.000000</td>\n",
       "      <td>1.000000</td>\n",
       "      <td>3.000000</td>\n",
       "      <td>140.000000</td>\n",
       "      <td>276.000000</td>\n",
       "      <td>0.000000</td>\n",
       "      <td>2.000000</td>\n",
       "      <td>166.000000</td>\n",
       "      <td>1.000000</td>\n",
       "      <td>1.600000</td>\n",
       "      <td>1.000000</td>\n",
       "      <td>1.000000</td>\n",
       "      <td>2.000000</td>\n",
       "      <td>1.000000</td>\n",
       "    </tr>\n",
       "    <tr>\n",
       "      <th>max</th>\n",
       "      <td>77.000000</td>\n",
       "      <td>1.000000</td>\n",
       "      <td>3.000000</td>\n",
       "      <td>200.000000</td>\n",
       "      <td>564.000000</td>\n",
       "      <td>1.000000</td>\n",
       "      <td>2.000000</td>\n",
       "      <td>202.000000</td>\n",
       "      <td>1.000000</td>\n",
       "      <td>6.200000</td>\n",
       "      <td>2.000000</td>\n",
       "      <td>3.000000</td>\n",
       "      <td>2.000000</td>\n",
       "      <td>1.000000</td>\n",
       "    </tr>\n",
       "  </tbody>\n",
       "</table>\n",
       "</div>"
      ],
      "text/plain": [
       "              age         sex          cp    trestbps        chol         fbs  \\\n",
       "count  297.000000  297.000000  297.000000  297.000000  297.000000  297.000000   \n",
       "mean    54.542088    0.676768    2.158249  131.693603  247.350168    0.144781   \n",
       "std      9.049736    0.468500    0.964859   17.762806   51.997583    0.352474   \n",
       "min     29.000000    0.000000    0.000000   94.000000  126.000000    0.000000   \n",
       "25%     48.000000    0.000000    2.000000  120.000000  211.000000    0.000000   \n",
       "50%     56.000000    1.000000    2.000000  130.000000  243.000000    0.000000   \n",
       "75%     61.000000    1.000000    3.000000  140.000000  276.000000    0.000000   \n",
       "max     77.000000    1.000000    3.000000  200.000000  564.000000    1.000000   \n",
       "\n",
       "          restecg     thalach       exang     oldpeak       slope          ca  \\\n",
       "count  297.000000  297.000000  297.000000  297.000000  297.000000  297.000000   \n",
       "mean     0.996633  149.599327    0.326599    1.055556    0.602694    0.676768   \n",
       "std      0.994914   22.941562    0.469761    1.166123    0.618187    0.938965   \n",
       "min      0.000000   71.000000    0.000000    0.000000    0.000000    0.000000   \n",
       "25%      0.000000  133.000000    0.000000    0.000000    0.000000    0.000000   \n",
       "50%      1.000000  153.000000    0.000000    0.800000    1.000000    0.000000   \n",
       "75%      2.000000  166.000000    1.000000    1.600000    1.000000    1.000000   \n",
       "max      2.000000  202.000000    1.000000    6.200000    2.000000    3.000000   \n",
       "\n",
       "             thal   condition  \n",
       "count  297.000000  297.000000  \n",
       "mean     0.835017    0.461279  \n",
       "std      0.956690    0.499340  \n",
       "min      0.000000    0.000000  \n",
       "25%      0.000000    0.000000  \n",
       "50%      0.000000    0.000000  \n",
       "75%      2.000000    1.000000  \n",
       "max      2.000000    1.000000  "
      ]
     },
     "execution_count": 11,
     "metadata": {},
     "output_type": "execute_result"
    }
   ],
   "source": [
    "# Descripcion de los datos\n",
    "Datos.describe()"
   ]
  },
  {
   "cell_type": "markdown",
   "id": "9afcde6b-108b-4cf9-808e-c885dc3d595d",
   "metadata": {},
   "source": [
    "<h3>Mostramos los datos atípicos</h3>"
   ]
  },
  {
   "cell_type": "code",
   "execution_count": 14,
   "id": "f62ecad6-e5c0-4742-be43-982fa56ad0a6",
   "metadata": {},
   "outputs": [
    {
     "name": "stdout",
     "output_type": "stream",
     "text": [
      "Cantidad de registros con 0 años: 0\n",
      "Cantidad de registros con más de 150 años: 0\n",
      "Cantidad de registros con la presión arterial en reposo igual a cero: 0\n",
      "Cantidad de registros con la presión arterial mayor a 185: 2\n",
      "Cantidad de registros con el colesterol igual a cero: 0\n",
      "Cantidad de registros con la frecuencia cardíaca máxima igual a cero: 0\n"
     ]
    }
   ],
   "source": [
    "# Procesamos los datos, tratamos los datos faltantes y ajustándolos a la media de los datos \n",
    "print(\"Cantidad de registros con 0 años:\", Datos['age'].isin([0]).sum())\n",
    "\n",
    "# Muestra la cantidad de registros con edad mayor a 150 años\n",
    "mayores_150 = (Datos['age'] > 150).sum()\n",
    "print(\"Cantidad de registros con más de 150 años:\", mayores_150)\n",
    "\n",
    "# Muestra valores atípicos de la presión arterial en reposo (mmHg)\n",
    "print(\"Cantidad de registros con la presión arterial en reposo igual a cero:\", Datos['trestbps'].isin([0]).sum())\n",
    "\n",
    "# Muestra la cantidad de registros con presión arterial mayor a 185\n",
    "mayores_185 = (Datos['trestbps'] > 185).sum()\n",
    "print(\"Cantidad de registros con la presión arterial mayor a 185:\", mayores_185)\n",
    "\n",
    "# Muestra valores atípicos del colesterol en la sangre \n",
    "print(\"Cantidad de registros con el colesterol igual a cero:\", Datos['chol'].isin([0]).sum())\n",
    "\n",
    "# Muestra valores atípicos de frecuencia cardíaca máxima alcanzada \n",
    "print(\"Cantidad de registros con la frecuencia cardíaca máxima igual a cero:\", Datos['thalach'].isin([0]).sum())\n"
   ]
  },
  {
   "cell_type": "markdown",
   "id": "59d58794-1bc6-4d9a-a753-3ae14cedcbb3",
   "metadata": {},
   "source": [
    "<h5>Ahora limpiamos los datos atipicos el cual es la presion arterial (trestbps) pues una presion en reposo mayor a 180 es casi mortal, esta la reemplazamos por la media de presion arterial en reposo</h5>"
   ]
  },
  {
   "cell_type": "code",
   "execution_count": 80,
   "id": "5dbb4a3a-7663-4ee2-994a-20e50d7bdd7c",
   "metadata": {},
   "outputs": [
    {
     "name": "stdout",
     "output_type": "stream",
     "text": [
      "Cantidad de registros con la presión arterial mayor a 185: 0\n"
     ]
    }
   ],
   "source": [
    "# Reemplazamos los valores mayores a 185 (mas de 180 es igual a muerte instantanea) con la media de la columna 'trestbps'\n",
    "Datos['trestbps'] = Datos['trestbps'].mask(Datos['trestbps'] > 185, Datos['trestbps'].mean())\n",
    "\n",
    "# Corroboramos que los datos atipicos sean modificados\n",
    "mayores_185 = (Datos['trestbps'] > 185).sum()\n",
    "print(\"Cantidad de registros con la presión arterial mayor a 185:\", mayores_185)"
   ]
  },
  {
   "cell_type": "markdown",
   "id": "af5d6855-2c84-49e7-a658-74552d203ae6",
   "metadata": {},
   "source": [
    "<h4>Ahora revisamos graficamente si ahi mas datos atipicos en las demas variables</h4>"
   ]
  },
  {
   "cell_type": "markdown",
   "id": "efb77ce3-bea0-4222-95be-c520eab946ff",
   "metadata": {},
   "source": [
    "<h5>Esta accion la realizamos creando la clase grafica_atipicos pidiendo como datos las variable data (donde estan los datos), columna (variable que quiero seleccionar), ax (el lugar que ocupara en la grafica)</h5>"
   ]
  },
  {
   "cell_type": "code",
   "execution_count": 21,
   "id": "5e5d5c15-9dd8-4e1f-838f-93e744ffe8d9",
   "metadata": {},
   "outputs": [
    {
     "data": {
      "image/png": "[encoded data removed]",
      "text/plain": [
       "<Figure size 1000x1000 with 5 Axes>"
      ]
     },
     "metadata": {},
     "output_type": "display_data"
    }
   ],
   "source": [
    "#\n",
    "def grafica_atipicos(data, columna, ax):\n",
    "    sns.boxplot(x = Datos[columna], ax = ax)\n",
    "    ax.set_title(\"Datos atipicos de \" + columna)\n",
    "fig, axs = plt.subplots(5, 1, figsize = (10, 10))\n",
    "\n",
    "grafica_atipicos(Datos, 'age', axs[0])\n",
    "grafica_atipicos(Datos, 'trestbps', axs[1])\n",
    "grafica_atipicos(Datos, 'chol', axs[2])\n",
    "grafica_atipicos(Datos, 'thalach', axs[3])\n",
    "grafica_atipicos(Datos, 'condition', axs[4])\n",
    "\n",
    "plt.tight_layout()\n",
    "plt.show()\n"
   ]
  },
  {
   "cell_type": "markdown",
   "id": "02ac1367-1ce2-4802-8e01-b578b4e323f1",
   "metadata": {},
   "source": [
    "<h5>Revisamos que no existan datos faltantes</h5>"
   ]
  },
  {
   "cell_type": "code",
   "execution_count": 24,
   "id": "7d71f36b-f916-4d59-9f6c-153aa0bb2e11",
   "metadata": {},
   "outputs": [
    {
     "name": "stdout",
     "output_type": "stream",
     "text": [
      "<class 'pandas.core.frame.DataFrame'>\n",
      "RangeIndex: 297 entries, 0 to 296\n",
      "Data columns (total 14 columns):\n",
      " #   Column     Non-Null Count  Dtype  \n",
      "---  ------     --------------  -----  \n",
      " 0   age        297 non-null    int64  \n",
      " 1   sex        297 non-null    int64  \n",
      " 2   cp         297 non-null    int64  \n",
      " 3   trestbps   297 non-null    float64\n",
      " 4   chol       297 non-null    int64  \n",
      " 5   fbs        297 non-null    int64  \n",
      " 6   restecg    297 non-null    int64  \n",
      " 7   thalach    297 non-null    int64  \n",
      " 8   exang      297 non-null    int64  \n",
      " 9   oldpeak    297 non-null    float64\n",
      " 10  slope      297 non-null    int64  \n",
      " 11  ca         297 non-null    int64  \n",
      " 12  thal       297 non-null    int64  \n",
      " 13  condition  297 non-null    int64  \n",
      "dtypes: float64(2), int64(12)\n",
      "memory usage: 32.6 KB\n"
     ]
    }
   ],
   "source": [
    "Datos.info()"
   ]
  },
  {
   "cell_type": "markdown",
   "id": "7b70675c-7c91-4dcc-8811-1519720a9122",
   "metadata": {},
   "source": [
    "<h3>Revisamos los datos despues de limpiarlos</h3>\n",
    "<h6>Revisamos uno por uno para corroborar su limpieza</h6>"
   ]
  },
  {
   "cell_type": "markdown",
   "id": "9a373f36-90e6-49e8-aaeb-30c9efa9ff3b",
   "metadata": {},
   "source": [
    "<h6>Datos sobre sexo</h6>"
   ]
  },
  {
   "cell_type": "code",
   "execution_count": 28,
   "id": "1d550244-7171-4116-8dcd-d364a09ea46e",
   "metadata": {},
   "outputs": [
    {
     "data": {
      "text/plain": [
       "sex\n",
       "1    201\n",
       "0     96\n",
       "Name: count, dtype: int64"
      ]
     },
     "execution_count": 28,
     "metadata": {},
     "output_type": "execute_result"
    }
   ],
   "source": [
    "Datos['sex'].value_counts()"
   ]
  },
  {
   "cell_type": "markdown",
   "id": "397363c2-a499-48ca-b53d-c8bca4c42009",
   "metadata": {},
   "source": [
    "<h6>Datos sobre edad</h6>"
   ]
  },
  {
   "cell_type": "code",
   "execution_count": 31,
   "id": "ca7f2a69-ba71-4d3a-a75e-c06bbfec1f5b",
   "metadata": {},
   "outputs": [
    {
     "data": {
      "text/plain": [
       "age\n",
       "58    18\n",
       "57    17\n",
       "54    16\n",
       "59    14\n",
       "60    12\n",
       "51    12\n",
       "56    11\n",
       "52    11\n",
       "44    11\n",
       "62    11\n",
       "64    10\n",
       "41    10\n",
       "63     9\n",
       "67     9\n",
       "61     8\n",
       "55     8\n",
       "45     8\n",
       "42     8\n",
       "65     8\n",
       "46     7\n",
       "48     7\n",
       "50     7\n",
       "43     7\n",
       "66     7\n",
       "53     7\n",
       "49     5\n",
       "47     5\n",
       "70     4\n",
       "68     4\n",
       "39     4\n",
       "35     4\n",
       "69     3\n",
       "71     3\n",
       "40     3\n",
       "34     2\n",
       "37     2\n",
       "76     1\n",
       "29     1\n",
       "74     1\n",
       "38     1\n",
       "77     1\n",
       "Name: count, dtype: int64"
      ]
     },
     "execution_count": 31,
     "metadata": {},
     "output_type": "execute_result"
    }
   ],
   "source": [
    "Datos['age'].value_counts()"
   ]
  },
  {
   "cell_type": "markdown",
   "id": "2f88dde2-dee2-4a66-8a54-628f1f1d7d19",
   "metadata": {},
   "source": [
    "<h6>Datos sobre la presion arterial en reposo</h6>"
   ]
  },
  {
   "cell_type": "code",
   "execution_count": 34,
   "id": "614e8123-3123-4cf9-952b-b385c0d02838",
   "metadata": {},
   "outputs": [
    {
     "data": {
      "text/plain": [
       "trestbps\n",
       "120.000000    37\n",
       "130.000000    36\n",
       "140.000000    32\n",
       "110.000000    19\n",
       "150.000000    17\n",
       "160.000000    11\n",
       "128.000000    10\n",
       "138.000000    10\n",
       "125.000000    10\n",
       "112.000000     9\n",
       "132.000000     7\n",
       "118.000000     7\n",
       "108.000000     6\n",
       "124.000000     6\n",
       "135.000000     6\n",
       "152.000000     5\n",
       "134.000000     5\n",
       "145.000000     5\n",
       "122.000000     4\n",
       "100.000000     4\n",
       "170.000000     4\n",
       "115.000000     3\n",
       "180.000000     3\n",
       "136.000000     3\n",
       "126.000000     3\n",
       "105.000000     3\n",
       "142.000000     3\n",
       "131.693603     2\n",
       "178.000000     2\n",
       "144.000000     2\n",
       "148.000000     2\n",
       "146.000000     2\n",
       "102.000000     2\n",
       "94.000000      2\n",
       "174.000000     1\n",
       "123.000000     1\n",
       "164.000000     1\n",
       "114.000000     1\n",
       "117.000000     1\n",
       "165.000000     1\n",
       "158.000000     1\n",
       "101.000000     1\n",
       "106.000000     1\n",
       "129.000000     1\n",
       "172.000000     1\n",
       "155.000000     1\n",
       "154.000000     1\n",
       "156.000000     1\n",
       "104.000000     1\n",
       "Name: count, dtype: int64"
      ]
     },
     "execution_count": 34,
     "metadata": {},
     "output_type": "execute_result"
    }
   ],
   "source": [
    "Datos['trestbps'].value_counts()"
   ]
  },
  {
   "cell_type": "markdown",
   "id": "27354f26-ad8d-4bae-a0e0-e806b20650ee",
   "metadata": {},
   "source": [
    "<h6>Datos sobre el colesterol</h6>"
   ]
  },
  {
   "cell_type": "code",
   "execution_count": 37,
   "id": "ff6480cd-d00d-44dc-9177-fd4be0934af8",
   "metadata": {},
   "outputs": [
    {
     "data": {
      "text/plain": [
       "chol\n",
       "234    6\n",
       "197    6\n",
       "212    5\n",
       "269    5\n",
       "204    5\n",
       "      ..\n",
       "322    1\n",
       "237    1\n",
       "281    1\n",
       "195    1\n",
       "183    1\n",
       "Name: count, Length: 152, dtype: int64"
      ]
     },
     "execution_count": 37,
     "metadata": {},
     "output_type": "execute_result"
    }
   ],
   "source": [
    "Datos['chol'].value_counts()"
   ]
  },
  {
   "cell_type": "markdown",
   "id": "f8aa1f0c-0525-4b1d-8097-7b1b36868ccd",
   "metadata": {},
   "source": [
    "<h6>Datos sobre la maxima presion arterial</h6>"
   ]
  },
  {
   "cell_type": "code",
   "execution_count": 40,
   "id": "9e535ec4-0b0c-41e5-9887-5f4ca5b58ad0",
   "metadata": {},
   "outputs": [
    {
     "data": {
      "text/plain": [
       "thalach\n",
       "162    11\n",
       "163     9\n",
       "160     9\n",
       "152     8\n",
       "172     7\n",
       "       ..\n",
       "192     1\n",
       "202     1\n",
       "167     1\n",
       "97      1\n",
       "195     1\n",
       "Name: count, Length: 91, dtype: int64"
      ]
     },
     "execution_count": 40,
     "metadata": {},
     "output_type": "execute_result"
    }
   ],
   "source": [
    "Datos['thalach'].value_counts()"
   ]
  },
  {
   "cell_type": "markdown",
   "id": "638b3c8a-c9bf-4b9b-a2ba-91ad83309cc3",
   "metadata": {},
   "source": [
    "<h2>Creación del modelo de regresion logistica</h2>"
   ]
  },
  {
   "cell_type": "markdown",
   "id": "5f61a962-2efc-42f7-84f0-4170f73a0ee8",
   "metadata": {},
   "source": [
    "<h6>Dividimos el dataset en train(entrenar) y test(probar) para entrenar y evaluar el modelo \n",
    "    train = 75% - test = 25% <br>\n",
    "    Se crean variables para almacenar los datos de entrenamiento <br>\n",
    "    Se crea la variable entrenar la cual vamos a usar para entrenar pero sin la variable condition (esta nos dice si tiene problemas cardiacos o no)<br>\n",
    "    Se crea la variable probar la cual vamos a usar para probar el modelo ya con la variable condition agregada</h6>"
   ]
  },
  {
   "cell_type": "code",
   "execution_count": 44,
   "id": "c18344fe-3960-4efd-bd0c-2c6f583622ee",
   "metadata": {},
   "outputs": [],
   "source": [
    "entrenar = Datos.drop('condition', axis = 1) # cargamos todos los datos y con axis=1 decimos que eliminamos la columna condition, si usamos axis = 0 eliminamos la fila \n",
    "probar = Datos['condition'] # cargamos todos los datos incluyendo condition \n",
    "\n",
    "# Ahora dividimos la cantidad de datos que usamos a entrenar el modelo y otra para probar el modelo\n",
    "entrenar_train, entrenar_test, probar_train, probar_test = train_test_split(entrenar, probar, test_size = 0.25, stratify = probar, random_state = 0)"
   ]
  },
  {
   "cell_type": "markdown",
   "id": "7a8bceb8-7281-4b39-b598-7c61752e4eb2",
   "metadata": {},
   "source": [
    "<h6>Imprimimos los datos que almacenamos en entrenar y que usamos para entrenar el modelo</h6>"
   ]
  },
  {
   "cell_type": "code",
   "execution_count": 47,
   "id": "3c464800-99b3-4c85-a789-4d2445e40c74",
   "metadata": {},
   "outputs": [
    {
     "name": "stdout",
     "output_type": "stream",
     "text": [
      "     age  sex  cp    trestbps  chol  fbs  restecg  thalach  exang  oldpeak  \\\n",
      "234   56    0   3  131.693603   288    1        2      133      1      4.0   \n",
      "82    66    0   2  146.000000   278    0        2      152      0      0.0   \n",
      "36    56    1   1  120.000000   240    0        0      169      0      0.0   \n",
      "237   56    1   3  132.000000   184    0        2      105      1      2.1   \n",
      "133   47    1   2  108.000000   243    0        0      152      0      0.0   \n",
      "..   ...  ...  ..         ...   ...  ...      ...      ...    ...      ...   \n",
      "291   40    1   3  110.000000   167    0        2      114      1      2.0   \n",
      "195   61    0   3  130.000000   330    0        2      169      0      0.0   \n",
      "170   65    0   3  150.000000   225    0        2      114      0      1.0   \n",
      "135   46    0   2  142.000000   177    0        2      160      1      1.4   \n",
      "293   39    1   3  118.000000   219    0        0      140      0      1.2   \n",
      "\n",
      "     slope  ca  thal  \n",
      "234      2   2     2  \n",
      "82       1   1     0  \n",
      "36       2   0     0  \n",
      "237      1   1     1  \n",
      "133      0   0     0  \n",
      "..     ...  ..   ...  \n",
      "291      1   0     2  \n",
      "195      0   0     0  \n",
      "170      1   3     2  \n",
      "135      2   0     0  \n",
      "293      1   0     2  \n",
      "\n",
      "[222 rows x 13 columns]\n"
     ]
    }
   ],
   "source": [
    "print(entrenar_train)"
   ]
  },
  {
   "cell_type": "code",
   "execution_count": 49,
   "id": "f7631313-0ccf-46fa-8f9b-9b01d6775652",
   "metadata": {},
   "outputs": [
    {
     "name": "stdout",
     "output_type": "stream",
     "text": [
      "234    1\n",
      "82     0\n",
      "36     0\n",
      "237    1\n",
      "133    1\n",
      "      ..\n",
      "291    1\n",
      "195    1\n",
      "170    1\n",
      "135    0\n",
      "293    1\n",
      "Name: condition, Length: 222, dtype: int64\n"
     ]
    }
   ],
   "source": [
    "print(probar_train)"
   ]
  },
  {
   "cell_type": "markdown",
   "id": "53aedc7b-3170-40b4-bbdd-ee897e2079e8",
   "metadata": {},
   "source": [
    "<h2>Ahora entrenamos el modelo configurando los hiperparametros</h2>\n",
    "<h6>Construimos el modelo de regresion lineal</h6>"
   ]
  },
  {
   "cell_type": "code",
   "execution_count": 52,
   "id": "195142ca-b594-4d46-8cc9-8b9e7562f749",
   "metadata": {},
   "outputs": [],
   "source": [
    "modelo_regresion = LogisticRegression(solver = \"liblinear\") # Usamos la libreria sklearn.linear_model llamandola con la variable LogisticRegression y usamos la plabra clave solver para seleccionar el metodo que usara y liblinear es el metodo que usaremos\n",
    "modelo_regresion.fit(entrenar_train, probar_train)\n",
    "\n",
    "# Creamos el modelo de predicción\n",
    "Modelo_Predictivo = modelo_regresion.predict(entrenar_test) #usamos la palabra clave predict para decirle al modelo que preiga los datos de acuerdo a lo que se almaceno en la variable entrenar \n"
   ]
  },
  {
   "cell_type": "code",
   "execution_count": 54,
   "id": "6f3acfbf-f9b9-4a60-a04d-8a050da91823",
   "metadata": {},
   "outputs": [
    {
     "name": "stdout",
     "output_type": "stream",
     "text": [
      "185    1\n",
      "157    1\n",
      "110    0\n",
      "39     0\n",
      "198    1\n",
      "      ..\n",
      "278    0\n",
      "163    1\n",
      "137    0\n",
      "33     1\n",
      "246    1\n",
      "Name: condition, Length: 75, dtype: int64\n"
     ]
    }
   ],
   "source": [
    "print(probar_test)"
   ]
  },
  {
   "cell_type": "code",
   "execution_count": 56,
   "id": "0447fc97-4490-4289-92a8-e9bba98eca63",
   "metadata": {},
   "outputs": [
    {
     "name": "stdout",
     "output_type": "stream",
     "text": [
      "[1 1 0 0 1 0 1 0 0 1 0 1 1 1 1 1 0 0 0 1 0 1 1 1 0 0 0 0 0 1 0 1 1 0 0 0 0\n",
      " 0 1 0 0 0 1 1 1 1 1 0 1 1 0 1 0 0 0 0 0 1 1 1 1 0 0 0 1 0 0 1 0 0 0 1 0 0\n",
      " 1]\n"
     ]
    }
   ],
   "source": [
    "print (Modelo_Predictivo)"
   ]
  },
  {
   "cell_type": "code",
   "execution_count": 58,
   "id": "f10482c3-6643-47a7-8eed-0ac3d60221a0",
   "metadata": {},
   "outputs": [
    {
     "name": "stdout",
     "output_type": "stream",
     "text": [
      "              precision    recall  f1-score   support\n",
      "\n",
      "           0       0.88      0.90      0.89        40\n",
      "           1       0.88      0.86      0.87        35\n",
      "\n",
      "    accuracy                           0.88        75\n",
      "   macro avg       0.88      0.88      0.88        75\n",
      "weighted avg       0.88      0.88      0.88        75\n",
      "\n"
     ]
    }
   ],
   "source": [
    "# Evaluamos el modelo predictivo de regresion logistica segun las metricas de precision, recall, f1-score y support\n",
    "print(classification_report(probar_test,Modelo_Predictivo))\n"
   ]
  },
  {
   "cell_type": "markdown",
   "id": "9fc68f0c-0c97-40ad-8bb3-53281ffe8b1d",
   "metadata": {},
   "source": [
    "<h2>Evaluamos los resultados del modelo por medio de una matriz de confusion de manera grafica </h2>"
   ]
  },
  {
   "cell_type": "code",
   "execution_count": 61,
   "id": "5663076c-c27c-4f8d-ad0b-7c808106fbfb",
   "metadata": {},
   "outputs": [
    {
     "data": {
      "text/plain": [
       "<sklearn.metrics._plot.confusion_matrix.ConfusionMatrixDisplay at 0x20ed1713470>"
      ]
     },
     "execution_count": 61,
     "metadata": {},
     "output_type": "execute_result"
    },
    {
     "data": {
      "image/png": "[encoded data removed]",
      "text/plain": [
       "<Figure size 640x480 with 2 Axes>"
      ]
     },
     "metadata": {},
     "output_type": "display_data"
    }
   ],
   "source": [
    "matriz = confusion_matrix(probar_test, Modelo_Predictivo)\n",
    "grafica_matriz = metrics.ConfusionMatrixDisplay(confusion_matrix = matriz)\n",
    "grafica_matriz.plot()"
   ]
  },
  {
   "cell_type": "markdown",
   "id": "d8572dc6-a407-4f34-8071-9f395e8c276b",
   "metadata": {},
   "source": [
    "<h2>Procedemos revisar la capacidad del modelo para predecir si un paciente tiene problemas cardiacos, lo hacemos con una grafica lineal y hallamos el area bajo la curva</h2>"
   ]
  },
  {
   "cell_type": "code",
   "execution_count": 64,
   "id": "34550628-ff1b-466a-a375-a36d9b81a30c",
   "metadata": {},
   "outputs": [
    {
     "data": {
      "image/png": "[encoded data removed]",
      "text/plain": [
       "<Figure size 640x480 with 1 Axes>"
      ]
     },
     "metadata": {},
     "output_type": "display_data"
    }
   ],
   "source": [
    "RocCurveDisplay.from_predictions(probar_test, Modelo_Predictivo)\n",
    "plt.show()"
   ]
  },
  {
   "cell_type": "markdown",
   "id": "602d5531-3b86-42d1-b0c5-cce27dc659f4",
   "metadata": {},
   "source": [
    "<h2>Interpretación, analisis y documentación de los resultados del modelo de regresion logistica</h2>"
   ]
  },
  {
   "cell_type": "markdown",
   "id": "0bf77eea-a2af-4dd3-ad4b-9fd72ebf0010",
   "metadata": {},
   "source": [
    "<h3>Desempeño del modelo segun la tabla de los modelos de analisis de desempeño</h3>\n",
    "\n",
    "<h6>- Precision: Este modelo muestra el porcentaje de verdaderos positivos sobre los positivos que muestran los datos. Muestra la calidad de las predicciones positivos. En este caso es del 0,88 tanto en 0 (no) y 1 (si) es del 0,88. Esto nos muestra que el modelo tiene buen rendimiento en este aspecto</h6>\n",
    "\n",
    "<h6>- Recall: Mide la capacidad del modelo para identificar correctamente todos los casos positivos. En este caso para 0 (no) es del 0,90 y 1 (si) es del 0,86. Por tanto, el modelo que creamos tiene buen rendimiento en la identificación de casos positivos para problemas cardiacos. </h6> \n",
    "\n",
    "<h6>- F1-Score: Busca el equilibrio entre las metricas de precision y recall. En este caso para este modelo se ve un balance de 0,89 para 0 (no) y 0,87 para 1 (si).</h6>\n",
    "\n",
    "<h6>- Support: uso de datos reales para la prueba del modelo para cada instancia. En este caso, para 0 (no) es de 40 y 1 (si) es de 35 datos usados</h6>\n"
   ]
  },
  {
   "cell_type": "code",
   "execution_count": 68,
   "id": "95888820-af9d-49fc-bd1e-8fe6d3bfef88",
   "metadata": {},
   "outputs": [
    {
     "name": "stdout",
     "output_type": "stream",
     "text": [
      "              precision    recall  f1-score   support\n",
      "\n",
      "           0       0.88      0.90      0.89        40\n",
      "           1       0.88      0.86      0.87        35\n",
      "\n",
      "    accuracy                           0.88        75\n",
      "   macro avg       0.88      0.88      0.88        75\n",
      "weighted avg       0.88      0.88      0.88        75\n",
      "\n"
     ]
    }
   ],
   "source": [
    "modelo_regresion = LogisticRegression(solver = \"liblinear\") \n",
    "modelo_regresion.fit(entrenar_train, probar_train)\n",
    "Modelo_Predictivo = modelo_regresion.predict(entrenar_test) \n",
    "print(classification_report(probar_test,Modelo_Predictivo))"
   ]
  },
  {
   "cell_type": "markdown",
   "id": "7106e46a-d1f1-41cb-aa81-50388104a6d9",
   "metadata": {},
   "source": [
    "<h3>Capacidad del modelo de realizar una predicción</h3>\n",
    "\n",
    "<h6>- Verdaderos negativos: el recuento es de 36, esto nos dice que de 36 datos en reales, el modelo predijo los 36 diciendo 0 (no) lo hizo de manera correcta de 40 resultados. </h6>\n",
    "<h6>- Falsos negativos: el recuento es de 5, esto nos dice que el modelo se equivoco en decir que 0 (no) lo hizo de manera incorrecta 5 veces de 40 resultados.</h6>\n",
    "<h6>- Verdaderos positivos: el recuento es de 30 datos diciendo que 1 (si), esto nos dice que de 35 datos diciendo que 1 (si), 30 fueron correctos.</h6> \n",
    "<h6>- Falsos positivos: el recuento es de 4 datos, esto nos dice que de 35 datos diciendo que 1 (si), 5 fueron errados.</h6> "
   ]
  },
  {
   "cell_type": "code",
   "execution_count": 71,
   "id": "f7b18ed0-2569-47a3-9f0e-af0fe795debb",
   "metadata": {},
   "outputs": [
    {
     "data": {
      "text/plain": [
       "<sklearn.metrics._plot.confusion_matrix.ConfusionMatrixDisplay at 0x20ed18a4fb0>"
      ]
     },
     "execution_count": 71,
     "metadata": {},
     "output_type": "execute_result"
    },
    {
     "data": {
      "image/png": "[encoded data removed]",
      "text/plain": [
       "<Figure size 640x480 with 2 Axes>"
      ]
     },
     "metadata": {},
     "output_type": "display_data"
    }
   ],
   "source": [
    "matriz = confusion_matrix(probar_test, Modelo_Predictivo)\n",
    "grafica_matriz = metrics.ConfusionMatrixDisplay(confusion_matrix = matriz)\n",
    "grafica_matriz.plot()"
   ]
  },
  {
   "cell_type": "markdown",
   "id": "c5c01a45-db14-4884-8819-57b1d041e23d",
   "metadata": {},
   "source": [
    "<h3>Corroboramos el porcentaje de efectividad del modelo</h3>\n",
    "<h6>Como el area bajo la curva es de 0,88, podemos concluir que el modelo tiene muy buen rendimiento, del 88%</h6>"
   ]
  },
  {
   "cell_type": "code",
   "execution_count": 74,
   "id": "edb7c874-ad18-4503-89be-969d5902efc4",
   "metadata": {},
   "outputs": [
    {
     "data": {
      "image/png": "[encoded data removed]",
      "text/plain": [
       "<Figure size 640x480 with 1 Axes>"
      ]
     },
     "metadata": {},
     "output_type": "display_data"
    }
   ],
   "source": [
    "RocCurveDisplay.from_predictions(probar_test, Modelo_Predictivo)\n",
    "plt.show()"
   ]
  }
 ],
 "metadata": {
  "kernelspec": {
   "display_name": "Python 3 (ipykernel)",
   "language": "python",
   "name": "python3"
  },
  "language_info": {
   "codemirror_mode": {
    "name": "ipython",
    "version": 3
   },
   "file_extension": ".py",
   "mimetype": "text/x-python",
   "name": "python",
   "nbconvert_exporter": "python",
   "pygments_lexer": "ipython3",
   "version": "3.12.4"
  }
 },
 "nbformat": 4,
 "nbformat_minor": 5
}
